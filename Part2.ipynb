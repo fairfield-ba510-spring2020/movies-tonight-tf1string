{
 "cells": [
  {
   "cell_type": "markdown",
   "metadata": {},
   "source": [
    "# Movies Tonight Part 2: SQL DDL"
   ]
  },
  {
   "cell_type": "code",
   "execution_count": 1,
   "metadata": {},
   "outputs": [],
   "source": [
    "%load_ext sql"
   ]
  },
  {
   "cell_type": "markdown",
   "metadata": {},
   "source": [
    "***Note: This code worked in MySql Workbench***\n",
    "\n",
    "CREATE DATABASE IF NOT EXISTS Movies;\n",
    "USE Movies;\n",
    "DROP TABLE IF EXISTS ARTIST, MOVIES, THEATER, SHOWTIME, CREDIT;\n",
    "CREATE TABLE ARTIST(ArtistID int NOT NULL auto_increment, \n",
    "Name varchar(50) default NULL, \n",
    "PRIMARY KEY (ArtistID));\n",
    "CREATE TABLE MOVIES(MovieID int NOT NULL auto_increment, \n",
    "Rating varchar(10) default NULL, \n",
    "Title varchar(50) default NULL, \n",
    "PRIMARY KEY (MovieID));\n",
    "CREATE TABLE THEATER(TheaterID int NOT NULL auto_increment, \n",
    "Name varchar(50) default NULL, \n",
    "Location varchar(50) default NULL, \n",
    "Phone int default NULL,\n",
    "PRIMARY KEY (TheaterID));\n",
    "CREATE TABLE SHOWTIME(TheaterID int default NULL, \n",
    "MovieID int default NULL, \n",
    "Time time default NULL, \n",
    "FOREIGN KEY (TheaterID) REFERENCES THEATER(TheaterID),\n",
    "FOREIGN KEY (MovieID) REFERENCES MOVIES(MovieID));\n",
    "CREATE TABLE CREDIT(MovieID int default NULL, \n",
    "ArtistID int default NULL, \n",
    "CCode varchar(1) default NULL, \n",
    "FOREIGN KEY (MovieID) REFERENCES MOVIES(MovieID),\n",
    "FOREIGN KEY (ArtistID) REFERENCES ARTIST(ArtistID));"
   ]
  },
  {
   "cell_type": "markdown",
   "metadata": {},
   "source": [
    "1. **Create / Reset a SQLite database.** \n",
    "    - Name the database `Movies.db`.\n",
    "    - Add `DROP TABLE IF EXISTS` queries make sure you have a blank database. \n",
    "    - Use SQL comments to ay what each line does"
   ]
  },
  {
   "cell_type": "code",
   "execution_count": 28,
   "metadata": {},
   "outputs": [
    {
     "data": {
      "text/plain": [
       "'Connected: @Movies.db'"
      ]
     },
     "execution_count": 28,
     "metadata": {},
     "output_type": "execute_result"
    }
   ],
   "source": [
    "%sql sqlite:///Movies.db"
   ]
  },
  {
   "cell_type": "markdown",
   "metadata": {},
   "source": [
    "2. **Use SQL Create Table commands to implement the table designs you created in Part 1.** \n",
    "    - Take care with your data types! (You do not need to populate them yet. That’s Part 3.) \n",
    "    - Use a surrogate key for the primary key of each table. The data type descriptor is `INTEGER PRIMARY KEY`.\n",
    "    - If you make a mistake, recreate the database from scratch using your code from step 1 above. "
   ]
  },
  {
   "cell_type": "code",
   "execution_count": 31,
   "metadata": {},
   "outputs": [
    {
     "name": "stdout",
     "output_type": "stream",
     "text": [
      " * sqlite:///Movies.db\n",
      "Done.\n",
      "Done.\n",
      "Done.\n",
      "Done.\n",
      "Done.\n",
      "Done.\n",
      "Done.\n",
      "Done.\n",
      "Done.\n",
      "Done.\n"
     ]
    },
    {
     "data": {
      "text/plain": [
       "[]"
      ]
     },
     "execution_count": 31,
     "metadata": {},
     "output_type": "execute_result"
    }
   ],
   "source": [
    "%%sql\n",
    "DROP TABLE IF EXISTS THEATER;\n",
    "CREATE TABLE THEATER (\n",
    "    TheaterID INTEGER NOT NULL PRIMARY KEY, \n",
    "    Name TEXT NOT NULL, \n",
    "    Location TEXT NOT NULL, \n",
    "    Phone INTEGER NOT NULL);\n",
    "DROP TABLE IF EXISTS MOVIES;\n",
    "CREATE TABLE MOVIES (\n",
    "    MovieID INTEGER PRIMARY KEY,\n",
    "    Rating TEXT,\n",
    "    Title TEXT NOT NULL);\n",
    "DROP TABLE IF EXISTS ARTIST;\n",
    "CREATE TABLE ARTIST (\n",
    "    ArtistID INTEGER NOT NULL PRIMARY KEY,\n",
    "    Name TEXT NOT NULL,\n",
    "    Bio TEXT,\n",
    "    HeadShot BLOB);\n",
    "DROP TABLE IF EXISTS SHOWTIME;\n",
    "CREATE TABLE SHOWTIME (\n",
    "    ShowID INTEGER NOT NULL PRIMARY KEY,\n",
    "    MovieID INTEGER NOT NULL,\n",
    "    TheaterID INTEGER NOT NULL,\n",
    "    Time TEXT NOT NULL,\n",
    "    FOREIGN KEY (MovieID) REFERENCES Movies (MovieID),\n",
    "    FOREIGN KEY (TheaterID) REFERENCES Theater (TheaterID));\n",
    "DROP TABLE IF EXISTS CREDIT;\n",
    "CREATE TABLE CREDIT (\n",
    "    CreditID INTEGER PRIMARY KEY,\n",
    "    MovieID INTEGER NOT NULL,\n",
    "    ArtistID INTEGER NOT NULL,\n",
    "    CCode TEXT NOT NULL,\n",
    "    FOREIGN KEY (MovieID) REFERENCES Movies (MovieID),\n",
    "    FOREIGN KEY (ArtistID) REFERENCES ARTIST (ArtistID));\n"
   ]
  },
  {
   "cell_type": "markdown",
   "metadata": {},
   "source": [
    "3. **Use SQL ALTER TABLE statements to add the foreign key constraints from your ERD.**  \n",
    "Take care that each constraint has to have a unique name."
   ]
  },
  {
   "cell_type": "code",
   "execution_count": 27,
   "metadata": {},
   "outputs": [
    {
     "ename": "SyntaxError",
     "evalue": "invalid syntax (<ipython-input-27-e9cc1a9d6488>, line 1)",
     "output_type": "error",
     "traceback": [
      "\u001b[0;36m  File \u001b[0;32m\"<ipython-input-27-e9cc1a9d6488>\"\u001b[0;36m, line \u001b[0;32m1\u001b[0m\n\u001b[0;31m    ALTER TABLE CREDIT\u001b[0m\n\u001b[0m              ^\u001b[0m\n\u001b[0;31mSyntaxError\u001b[0m\u001b[0;31m:\u001b[0m invalid syntax\n"
     ]
    }
   ],
   "source": [
    "ALTER TABLE CREDIT\n",
    "   ADD FOREIGN KEY(MovieID) REFERENCES MOVIES(MovieID),\n",
    "ALTER TABLE CREDIT\n",
    "   ADD FOREIGN KEY (ArtistID) REFERENCES ARTIST(ArtistID)\n",
    "ALTER TABLE SHOWTIME\n",
    "   ADD FOREIGN KEY (TheaterID) REFERENCES THEATER(TheaterID),\n",
    "ALTER TABLE SHOWTIME\n",
    "   ADD FOREIGN KEY (MovieID) REFERENCES MOVIES(MovieID);"
   ]
  },
  {
   "cell_type": "markdown",
   "metadata": {},
   "source": [
    "4. **Save, add, commit, and push your work to GitHub.**  \n",
    "Use the commit summary comment \"Completed Part 2\"."
   ]
  },
  {
   "cell_type": "code",
   "execution_count": null,
   "metadata": {},
   "outputs": [],
   "source": [
    "Travis Fuller"
   ]
  }
 ],
 "metadata": {
  "kernelspec": {
   "display_name": "Python 3",
   "language": "python",
   "name": "python3"
  },
  "language_info": {
   "codemirror_mode": {
    "name": "ipython",
    "version": 3
   },
   "file_extension": ".py",
   "mimetype": "text/x-python",
   "name": "python",
   "nbconvert_exporter": "python",
   "pygments_lexer": "ipython3",
   "version": "3.6.7"
  }
 },
 "nbformat": 4,
 "nbformat_minor": 2
}
